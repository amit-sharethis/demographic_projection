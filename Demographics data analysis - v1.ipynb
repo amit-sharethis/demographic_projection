{
 "cells": [
  {
   "cell_type": "markdown",
   "id": "6d4df7c5",
   "metadata": {},
   "source": [
    "# Import stuff"
   ]
  },
  {
   "cell_type": "code",
   "execution_count": 10,
   "id": "9b612b5f",
   "metadata": {},
   "outputs": [],
   "source": [
    "import pandas as pd\n",
    "import numpy as np\n",
    "import os"
   ]
  },
  {
   "cell_type": "markdown",
   "id": "3b72ad45",
   "metadata": {},
   "source": [
    "# Read in the data"
   ]
  },
  {
   "cell_type": "code",
   "execution_count": 2,
   "id": "0b808eff",
   "metadata": {},
   "outputs": [],
   "source": [
    "# Load the data\n",
    "def read_visits(shards=range(3)):\n",
    "    \"\"\"\n",
    "    Args:\n",
    "      shards:  A subset of the integers 0-9, indicating which data shards\n",
    "        should be read in.\n",
    "\n",
    "    Returns:\n",
    "      A pandas DataFrame\n",
    "    \"\"\"\n",
    "    data = pd.DataFrame()\n",
    "    dname = \"/Users/stevescott/Downloads/demographics\"\n",
    "    for which_part in shards:\n",
    "        fname = f\"part-00000000000{which_part}.csv.gz\"\n",
    "        fname = os.path.join(dname, fname)\n",
    "        print(f\"reading {fname}\")\n",
    "        shard = pd.read_csv(fname)\n",
    "        data = data.append(shard)\n",
    "    return data\n"
   ]
  },
  {
   "cell_type": "code",
   "execution_count": 3,
   "id": "ffc0867e",
   "metadata": {},
   "outputs": [
    {
     "name": "stdout",
     "output_type": "stream",
     "text": [
      "reading /Users/stevescott/Downloads/demographics/part-000000000000.csv.gz\n",
      "reading /Users/stevescott/Downloads/demographics/part-000000000001.csv.gz\n",
      "reading /Users/stevescott/Downloads/demographics/part-000000000002.csv.gz\n"
     ]
    }
   ],
   "source": [
    "data = read_visits([0, 1, 2])"
   ]
  },
  {
   "cell_type": "code",
   "execution_count": 4,
   "id": "7d67e18e",
   "metadata": {},
   "outputs": [
    {
     "data": {
      "text/html": [
       "<div>\n",
       "<style scoped>\n",
       "    .dataframe tbody tr th:only-of-type {\n",
       "        vertical-align: middle;\n",
       "    }\n",
       "\n",
       "    .dataframe tbody tr th {\n",
       "        vertical-align: top;\n",
       "    }\n",
       "\n",
       "    .dataframe thead th {\n",
       "        text-align: right;\n",
       "    }\n",
       "</style>\n",
       "<table border=\"1\" class=\"dataframe\">\n",
       "  <thead>\n",
       "    <tr style=\"text-align: right;\">\n",
       "      <th></th>\n",
       "      <th>estid</th>\n",
       "      <th>domain</th>\n",
       "      <th>visits</th>\n",
       "    </tr>\n",
       "  </thead>\n",
       "  <tbody>\n",
       "    <tr>\n",
       "      <th>0</th>\n",
       "      <td>ZGYACGF9RJ4AAAAIdO2GAw==</td>\n",
       "      <td>horoscope.com</td>\n",
       "      <td>15</td>\n",
       "    </tr>\n",
       "    <tr>\n",
       "      <th>1</th>\n",
       "      <td>ZGQAAmENPcgAAAAICZmvAw==</td>\n",
       "      <td>channel3000.com</td>\n",
       "      <td>52</td>\n",
       "    </tr>\n",
       "    <tr>\n",
       "      <th>2</th>\n",
       "      <td>ZHkACmAJyx8AAAAID63uAw==</td>\n",
       "      <td>coingecko.com</td>\n",
       "      <td>81</td>\n",
       "    </tr>\n",
       "    <tr>\n",
       "      <th>3</th>\n",
       "      <td>ZGMAAmBXdOUAAAAIQM2RAw==</td>\n",
       "      <td>mentalfloss.com</td>\n",
       "      <td>69</td>\n",
       "    </tr>\n",
       "    <tr>\n",
       "      <th>4</th>\n",
       "      <td>ZGYAB2BeFlwAAAAIHXHqAw==</td>\n",
       "      <td>obits.cleveland.com</td>\n",
       "      <td>13</td>\n",
       "    </tr>\n",
       "  </tbody>\n",
       "</table>\n",
       "</div>"
      ],
      "text/plain": [
       "                      estid               domain  visits\n",
       "0  ZGYACGF9RJ4AAAAIdO2GAw==        horoscope.com      15\n",
       "1  ZGQAAmENPcgAAAAICZmvAw==      channel3000.com      52\n",
       "2  ZHkACmAJyx8AAAAID63uAw==        coingecko.com      81\n",
       "3  ZGMAAmBXdOUAAAAIQM2RAw==      mentalfloss.com      69\n",
       "4  ZGYAB2BeFlwAAAAIHXHqAw==  obits.cleveland.com      13"
      ]
     },
     "execution_count": 4,
     "metadata": {},
     "output_type": "execute_result"
    }
   ],
   "source": [
    "data.head()"
   ]
  },
  {
   "cell_type": "code",
   "execution_count": 5,
   "id": "64bf9033",
   "metadata": {},
   "outputs": [
    {
     "data": {
      "text/html": [
       "<div>\n",
       "<style scoped>\n",
       "    .dataframe tbody tr th:only-of-type {\n",
       "        vertical-align: middle;\n",
       "    }\n",
       "\n",
       "    .dataframe tbody tr th {\n",
       "        vertical-align: top;\n",
       "    }\n",
       "\n",
       "    .dataframe thead th {\n",
       "        text-align: right;\n",
       "    }\n",
       "</style>\n",
       "<table border=\"1\" class=\"dataframe\">\n",
       "  <thead>\n",
       "    <tr style=\"text-align: right;\">\n",
       "      <th></th>\n",
       "      <th>estid</th>\n",
       "      <th>domain</th>\n",
       "      <th>visits</th>\n",
       "    </tr>\n",
       "  </thead>\n",
       "  <tbody>\n",
       "    <tr>\n",
       "      <th>95184</th>\n",
       "      <td>ZGwAB2EdKZsAAAAIF0RUAw==</td>\n",
       "      <td>vmodtech.com</td>\n",
       "      <td>155195</td>\n",
       "    </tr>\n",
       "    <tr>\n",
       "      <th>65334</th>\n",
       "      <td>ZHyAAmFejEIAAAAIF7S9Aw==</td>\n",
       "      <td>legacy.com</td>\n",
       "      <td>17569</td>\n",
       "    </tr>\n",
       "    <tr>\n",
       "      <th>9316</th>\n",
       "      <td>ZGYAAWGA+9kAAAAIDYEjAw==</td>\n",
       "      <td>jump.mingpao.com</td>\n",
       "      <td>7300</td>\n",
       "    </tr>\n",
       "    <tr>\n",
       "      <th>41076</th>\n",
       "      <td>ZGgACGE7dJgAAAAID4TaAw==</td>\n",
       "      <td>coingecko.com</td>\n",
       "      <td>3733</td>\n",
       "    </tr>\n",
       "    <tr>\n",
       "      <th>58208</th>\n",
       "      <td>ZHUAA2FoUNUAAAAIETzpAw==</td>\n",
       "      <td>debeurs.nl</td>\n",
       "      <td>3228</td>\n",
       "    </tr>\n",
       "  </tbody>\n",
       "</table>\n",
       "</div>"
      ],
      "text/plain": [
       "                          estid            domain  visits\n",
       "95184  ZGwAB2EdKZsAAAAIF0RUAw==      vmodtech.com  155195\n",
       "65334  ZHyAAmFejEIAAAAIF7S9Aw==        legacy.com   17569\n",
       "9316   ZGYAAWGA+9kAAAAIDYEjAw==  jump.mingpao.com    7300\n",
       "41076  ZGgACGE7dJgAAAAID4TaAw==     coingecko.com    3733\n",
       "58208  ZHUAA2FoUNUAAAAIETzpAw==        debeurs.nl    3228"
      ]
     },
     "execution_count": 5,
     "metadata": {},
     "output_type": "execute_result"
    }
   ],
   "source": [
    "data = data.sort_values(\"visits\", ascending=False)\n",
    "data.head()"
   ]
  },
  {
   "cell_type": "code",
   "execution_count": 6,
   "id": "835659cf",
   "metadata": {},
   "outputs": [],
   "source": [
    "# Get the number of times each estid appears in the data.\n",
    "unique_visit_counts = data.value_counts(\"estid\")"
   ]
  },
  {
   "cell_type": "code",
   "execution_count": 7,
   "id": "3d112613",
   "metadata": {},
   "outputs": [
    {
     "data": {
      "text/plain": [
       "estid\n",
       "ZG0ACGGAKdwAAAAKfIzqAw==    12\n",
       "ZHMABGF96Q0AAAAINmC8Aw==    11\n",
       "ZHsABGGAHmUAAAAIBU2DAw==    11\n",
       "ZGUAAmGASFYAAAAJBCz5Aw==    11\n",
       "ZGEABGGAxocAAAAIf2E0Aw==    11\n",
       "dtype: int64"
      ]
     },
     "execution_count": 7,
     "metadata": {},
     "output_type": "execute_result"
    }
   ],
   "source": [
    "unique_visit_counts.head()"
   ]
  },
  {
   "cell_type": "code",
   "execution_count": 13,
   "id": "a64970d9",
   "metadata": {},
   "outputs": [
    {
     "data": {
      "text/plain": [
       "1     6746290\n",
       "2      118259\n",
       "3        5034\n",
       "4         510\n",
       "5          94\n",
       "6          42\n",
       "7          31\n",
       "8          10\n",
       "9           8\n",
       "10          6\n",
       "11          6\n",
       "12          1\n",
       "dtype: int64"
      ]
     },
     "execution_count": 13,
     "metadata": {},
     "output_type": "execute_result"
    }
   ],
   "source": [
    "# This is the number of times we saw an estid once, twice, ...\n",
    "unique_visit_counts.value_counts().sort_index()"
   ]
  },
  {
   "cell_type": "code",
   "execution_count": 23,
   "id": "67d37542",
   "metadata": {},
   "outputs": [
    {
     "data": {
      "text/html": [
       "<div>\n",
       "<style scoped>\n",
       "    .dataframe tbody tr th:only-of-type {\n",
       "        vertical-align: middle;\n",
       "    }\n",
       "\n",
       "    .dataframe tbody tr th {\n",
       "        vertical-align: top;\n",
       "    }\n",
       "\n",
       "    .dataframe thead th {\n",
       "        text-align: right;\n",
       "    }\n",
       "</style>\n",
       "<table border=\"1\" class=\"dataframe\">\n",
       "  <thead>\n",
       "    <tr style=\"text-align: right;\">\n",
       "      <th></th>\n",
       "      <th>estid</th>\n",
       "      <th>domain</th>\n",
       "      <th>visits</th>\n",
       "    </tr>\n",
       "  </thead>\n",
       "  <tbody>\n",
       "    <tr>\n",
       "      <th>2173008</th>\n",
       "      <td>ZG0ACGGAKdwAAAAKfIzqAw==</td>\n",
       "      <td>lamag.com</td>\n",
       "      <td>5</td>\n",
       "    </tr>\n",
       "    <tr>\n",
       "      <th>2125933</th>\n",
       "      <td>ZG0ACGGAKdwAAAAKfIzqAw==</td>\n",
       "      <td>robbreport.com</td>\n",
       "      <td>4</td>\n",
       "    </tr>\n",
       "    <tr>\n",
       "      <th>2032644</th>\n",
       "      <td>ZG0ACGGAKdwAAAAKfIzqAw==</td>\n",
       "      <td>revolvermag.com</td>\n",
       "      <td>4</td>\n",
       "    </tr>\n",
       "    <tr>\n",
       "      <th>2078504</th>\n",
       "      <td>ZG0ACGGAKdwAAAAKfIzqAw==</td>\n",
       "      <td>fwtx.com</td>\n",
       "      <td>4</td>\n",
       "    </tr>\n",
       "    <tr>\n",
       "      <th>2016578</th>\n",
       "      <td>ZG0ACGGAKdwAAAAKfIzqAw==</td>\n",
       "      <td>theeastsiderla.com</td>\n",
       "      <td>3</td>\n",
       "    </tr>\n",
       "    <tr>\n",
       "      <th>1645139</th>\n",
       "      <td>ZG0ACGGAKdwAAAAKfIzqAw==</td>\n",
       "      <td>equibase.com</td>\n",
       "      <td>2</td>\n",
       "    </tr>\n",
       "    <tr>\n",
       "      <th>1579413</th>\n",
       "      <td>ZG0ACGGAKdwAAAAKfIzqAw==</td>\n",
       "      <td>awwa.org</td>\n",
       "      <td>2</td>\n",
       "    </tr>\n",
       "    <tr>\n",
       "      <th>1702397</th>\n",
       "      <td>ZG0ACGGAKdwAAAAKfIzqAw==</td>\n",
       "      <td>wfmz.com</td>\n",
       "      <td>2</td>\n",
       "    </tr>\n",
       "    <tr>\n",
       "      <th>923316</th>\n",
       "      <td>ZG0ACGGAKdwAAAAKfIzqAw==</td>\n",
       "      <td>toptenreviews.com</td>\n",
       "      <td>1</td>\n",
       "    </tr>\n",
       "    <tr>\n",
       "      <th>337728</th>\n",
       "      <td>ZG0ACGGAKdwAAAAKfIzqAw==</td>\n",
       "      <td>texasmonthly.com</td>\n",
       "      <td>1</td>\n",
       "    </tr>\n",
       "    <tr>\n",
       "      <th>549023</th>\n",
       "      <td>ZG0ACGGAKdwAAAAKfIzqAw==</td>\n",
       "      <td>laptopmag.com</td>\n",
       "      <td>1</td>\n",
       "    </tr>\n",
       "    <tr>\n",
       "      <th>591918</th>\n",
       "      <td>ZG0ACGGAKdwAAAAKfIzqAw==</td>\n",
       "      <td>cinemablend.com</td>\n",
       "      <td>1</td>\n",
       "    </tr>\n",
       "  </tbody>\n",
       "</table>\n",
       "</div>"
      ],
      "text/plain": [
       "                            estid              domain  visits\n",
       "2173008  ZG0ACGGAKdwAAAAKfIzqAw==           lamag.com       5\n",
       "2125933  ZG0ACGGAKdwAAAAKfIzqAw==      robbreport.com       4\n",
       "2032644  ZG0ACGGAKdwAAAAKfIzqAw==     revolvermag.com       4\n",
       "2078504  ZG0ACGGAKdwAAAAKfIzqAw==            fwtx.com       4\n",
       "2016578  ZG0ACGGAKdwAAAAKfIzqAw==  theeastsiderla.com       3\n",
       "1645139  ZG0ACGGAKdwAAAAKfIzqAw==        equibase.com       2\n",
       "1579413  ZG0ACGGAKdwAAAAKfIzqAw==            awwa.org       2\n",
       "1702397  ZG0ACGGAKdwAAAAKfIzqAw==            wfmz.com       2\n",
       "923316   ZG0ACGGAKdwAAAAKfIzqAw==   toptenreviews.com       1\n",
       "337728   ZG0ACGGAKdwAAAAKfIzqAw==    texasmonthly.com       1\n",
       "549023   ZG0ACGGAKdwAAAAKfIzqAw==       laptopmag.com       1\n",
       "591918   ZG0ACGGAKdwAAAAKfIzqAw==     cinemablend.com       1"
      ]
     },
     "execution_count": 23,
     "metadata": {},
     "output_type": "execute_result"
    }
   ],
   "source": [
    "# Check out the guy who showed up to 12 different domains.\n",
    "data[data.estid==\"ZG0ACGGAKdwAAAAKfIzqAw==\"]"
   ]
  },
  {
   "cell_type": "code",
   "execution_count": 8,
   "id": "626478c7",
   "metadata": {},
   "outputs": [
    {
     "data": {
      "text/plain": [
       "<AxesSubplot:>"
      ]
     },
     "execution_count": 8,
     "metadata": {},
     "output_type": "execute_result"
    },
    {
     "data": {
      "image/png": "[encoded data removed]",
      "text/plain": [
       "<Figure size 432x288 with 1 Axes>"
      ]
     },
     "metadata": {
      "needs_background": "light"
     },
     "output_type": "display_data"
    }
   ],
   "source": [
    "data.visits.hist()"
   ]
  },
  {
   "cell_type": "code",
   "execution_count": 12,
   "id": "0f0cb1c5",
   "metadata": {},
   "outputs": [
    {
     "data": {
      "text/plain": [
       "<AxesSubplot:>"
      ]
     },
     "execution_count": 12,
     "metadata": {},
     "output_type": "execute_result"
    },
    {
     "data": {
      "image/png": "[encoded data removed]",
      "text/plain": [
       "<Figure size 432x288 with 1 Axes>"
      ]
     },
     "metadata": {
      "needs_background": "light"
     },
     "output_type": "display_data"
    }
   ],
   "source": [
    "np.log10(data.visits).hist()"
   ]
  },
  {
   "cell_type": "code",
   "execution_count": 15,
   "id": "2a733ece",
   "metadata": {},
   "outputs": [],
   "source": [
    "total_visits_by_estid = data.loc[:, (\"estid\", \"visits\")].groupby(\"estid\").sum()\n",
    "\n"
   ]
  },
  {
   "cell_type": "code",
   "execution_count": 25,
   "id": "b5904919",
   "metadata": {},
   "outputs": [
    {
     "data": {
      "text/html": [
       "<div>\n",
       "<style scoped>\n",
       "    .dataframe tbody tr th:only-of-type {\n",
       "        vertical-align: middle;\n",
       "    }\n",
       "\n",
       "    .dataframe tbody tr th {\n",
       "        vertical-align: top;\n",
       "    }\n",
       "\n",
       "    .dataframe thead th {\n",
       "        text-align: right;\n",
       "    }\n",
       "</style>\n",
       "<table border=\"1\" class=\"dataframe\">\n",
       "  <thead>\n",
       "    <tr style=\"text-align: right;\">\n",
       "      <th></th>\n",
       "      <th>visits</th>\n",
       "    </tr>\n",
       "    <tr>\n",
       "      <th>estid</th>\n",
       "      <th></th>\n",
       "    </tr>\n",
       "  </thead>\n",
       "  <tbody>\n",
       "    <tr>\n",
       "      <th>ZGwAB2EdKZsAAAAIF0RUAw==</th>\n",
       "      <td>155195</td>\n",
       "    </tr>\n",
       "    <tr>\n",
       "      <th>ZHyAAmFejEIAAAAIF7S9Aw==</th>\n",
       "      <td>26942</td>\n",
       "    </tr>\n",
       "    <tr>\n",
       "      <th>ZGYAAWGA+9kAAAAIDYEjAw==</th>\n",
       "      <td>7300</td>\n",
       "    </tr>\n",
       "    <tr>\n",
       "      <th>ZGgACGE7dJgAAAAID4TaAw==</th>\n",
       "      <td>3733</td>\n",
       "    </tr>\n",
       "    <tr>\n",
       "      <th>ZHUAA2FoUNUAAAAIETzpAw==</th>\n",
       "      <td>3228</td>\n",
       "    </tr>\n",
       "    <tr>\n",
       "      <th>...</th>\n",
       "      <td>...</td>\n",
       "    </tr>\n",
       "    <tr>\n",
       "      <th>ZGYAAGFzVugAAAAIawPwAw==</th>\n",
       "      <td>1</td>\n",
       "    </tr>\n",
       "    <tr>\n",
       "      <th>ZGYAAGFzVr4AAAAIav5TAw==</th>\n",
       "      <td>1</td>\n",
       "    </tr>\n",
       "    <tr>\n",
       "      <th>ZGYAAGFzVqwAAAAIFQ0XAw==</th>\n",
       "      <td>1</td>\n",
       "    </tr>\n",
       "    <tr>\n",
       "      <th>ZGYAAGFzVqEAAAAIFQjIAw==</th>\n",
       "      <td>1</td>\n",
       "    </tr>\n",
       "    <tr>\n",
       "      <th>uFe5tV6CopkZo5vxACc3Ag==</th>\n",
       "      <td>1</td>\n",
       "    </tr>\n",
       "  </tbody>\n",
       "</table>\n",
       "<p>6870291 rows × 1 columns</p>\n",
       "</div>"
      ],
      "text/plain": [
       "                          visits\n",
       "estid                           \n",
       "ZGwAB2EdKZsAAAAIF0RUAw==  155195\n",
       "ZHyAAmFejEIAAAAIF7S9Aw==   26942\n",
       "ZGYAAWGA+9kAAAAIDYEjAw==    7300\n",
       "ZGgACGE7dJgAAAAID4TaAw==    3733\n",
       "ZHUAA2FoUNUAAAAIETzpAw==    3228\n",
       "...                          ...\n",
       "ZGYAAGFzVugAAAAIawPwAw==       1\n",
       "ZGYAAGFzVr4AAAAIav5TAw==       1\n",
       "ZGYAAGFzVqwAAAAIFQ0XAw==       1\n",
       "ZGYAAGFzVqEAAAAIFQjIAw==       1\n",
       "uFe5tV6CopkZo5vxACc3Ag==       1\n",
       "\n",
       "[6870291 rows x 1 columns]"
      ]
     },
     "execution_count": 25,
     "metadata": {},
     "output_type": "execute_result"
    }
   ],
   "source": [
    "total_visits_by_estid.sort_values(\"visits\", ascending=False)"
   ]
  },
  {
   "cell_type": "markdown",
   "id": "080502f4",
   "metadata": {},
   "source": [
    "## Check out the ID's with many visits.  How many sites do they visit?  Usually just one."
   ]
  },
  {
   "cell_type": "code",
   "execution_count": 34,
   "id": "0fc5c804",
   "metadata": {},
   "outputs": [
    {
     "data": {
      "text/html": [
       "<div>\n",
       "<style scoped>\n",
       "    .dataframe tbody tr th:only-of-type {\n",
       "        vertical-align: middle;\n",
       "    }\n",
       "\n",
       "    .dataframe tbody tr th {\n",
       "        vertical-align: top;\n",
       "    }\n",
       "\n",
       "    .dataframe thead th {\n",
       "        text-align: right;\n",
       "    }\n",
       "</style>\n",
       "<table border=\"1\" class=\"dataframe\">\n",
       "  <thead>\n",
       "    <tr style=\"text-align: right;\">\n",
       "      <th></th>\n",
       "      <th>estid</th>\n",
       "      <th>domain</th>\n",
       "      <th>visits</th>\n",
       "    </tr>\n",
       "  </thead>\n",
       "  <tbody>\n",
       "    <tr>\n",
       "      <th>9316</th>\n",
       "      <td>ZGYAAWGA+9kAAAAIDYEjAw==</td>\n",
       "      <td>jump.mingpao.com</td>\n",
       "      <td>7300</td>\n",
       "    </tr>\n",
       "  </tbody>\n",
       "</table>\n",
       "</div>"
      ],
      "text/plain": [
       "                         estid            domain  visits\n",
       "9316  ZGYAAWGA+9kAAAAIDYEjAw==  jump.mingpao.com    7300"
      ]
     },
     "execution_count": 34,
     "metadata": {},
     "output_type": "execute_result"
    }
   ],
   "source": [
    "data[data.estid==\"ZGYAAWGA+9kAAAAIDYEjAw==\"]"
   ]
  },
  {
   "cell_type": "code",
   "execution_count": 35,
   "id": "250f3618",
   "metadata": {},
   "outputs": [
    {
     "data": {
      "text/html": [
       "<div>\n",
       "<style scoped>\n",
       "    .dataframe tbody tr th:only-of-type {\n",
       "        vertical-align: middle;\n",
       "    }\n",
       "\n",
       "    .dataframe tbody tr th {\n",
       "        vertical-align: top;\n",
       "    }\n",
       "\n",
       "    .dataframe thead th {\n",
       "        text-align: right;\n",
       "    }\n",
       "</style>\n",
       "<table border=\"1\" class=\"dataframe\">\n",
       "  <thead>\n",
       "    <tr style=\"text-align: right;\">\n",
       "      <th></th>\n",
       "      <th>estid</th>\n",
       "      <th>domain</th>\n",
       "      <th>visits</th>\n",
       "    </tr>\n",
       "  </thead>\n",
       "  <tbody>\n",
       "    <tr>\n",
       "      <th>41076</th>\n",
       "      <td>ZGgACGE7dJgAAAAID4TaAw==</td>\n",
       "      <td>coingecko.com</td>\n",
       "      <td>3733</td>\n",
       "    </tr>\n",
       "  </tbody>\n",
       "</table>\n",
       "</div>"
      ],
      "text/plain": [
       "                          estid         domain  visits\n",
       "41076  ZGgACGE7dJgAAAAID4TaAw==  coingecko.com    3733"
      ]
     },
     "execution_count": 35,
     "metadata": {},
     "output_type": "execute_result"
    }
   ],
   "source": [
    "data[data.estid==\"ZGgACGE7dJgAAAAID4TaAw==\"]"
   ]
  },
  {
   "cell_type": "code",
   "execution_count": null,
   "id": "87bec85e",
   "metadata": {},
   "outputs": [],
   "source": []
  }
 ],
 "metadata": {
  "kernelspec": {
   "display_name": "Python 3 (ipykernel)",
   "language": "python",
   "name": "python3"
  },
  "language_info": {
   "codemirror_mode": {
    "name": "ipython",
    "version": 3
   },
   "file_extension": ".py",
   "mimetype": "text/x-python",
   "name": "python",
   "nbconvert_exporter": "python",
   "pygments_lexer": "ipython3",
   "version": "3.9.7"
  }
 },
 "nbformat": 4,
 "nbformat_minor": 5
}
