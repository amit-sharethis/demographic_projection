{
 "cells": [
  {
   "cell_type": "markdown",
   "id": "6d4df7c5",
   "metadata": {},
   "source": [
    "# Import stuff"
   ]
  },
  {
   "cell_type": "code",
   "execution_count": 12,
   "id": "9b612b5f",
   "metadata": {},
   "outputs": [],
   "source": [
    "import pandas as pd\n",
    "import numpy as np\n",
    "import os\n",
    "import matplotlib.pyplot as plt"
   ]
  },
  {
   "cell_type": "markdown",
   "id": "3b72ad45",
   "metadata": {},
   "source": [
    "# Read in the data"
   ]
  },
  {
   "cell_type": "code",
   "execution_count": 13,
   "id": "0b808eff",
   "metadata": {},
   "outputs": [],
   "source": [
    "# Load the data\n",
    "def read_visits(shards=range(3)):\n",
    "    \"\"\"\n",
    "    Args:\n",
    "      shards:  A subset of the integers 0-9, indicating which data shards\n",
    "        should be read in.\n",
    "\n",
    "    Returns:\n",
    "      A pandas DataFrame\n",
    "    \"\"\"\n",
    "    data = pd.DataFrame()\n",
    "    dname = \"/Users/stevescott/Downloads/demographics-2\"\n",
    "    for which_part in shards:\n",
    "        fname = f\"part-00000000000{which_part}.csv.gz\"\n",
    "        fname = os.path.join(dname, fname)\n",
    "        print(f\"reading {fname}\")\n",
    "        shard = pd.read_csv(fname)\n",
    "        data = data.append(shard)\n",
    "    return data\n"
   ]
  },
  {
   "cell_type": "code",
   "execution_count": 14,
   "id": "ffc0867e",
   "metadata": {},
   "outputs": [
    {
     "name": "stdout",
     "output_type": "stream",
     "text": [
      "reading /Users/stevescott/Downloads/demographics-2/part-000000000000.csv.gz\n",
      "reading /Users/stevescott/Downloads/demographics-2/part-000000000001.csv.gz\n",
      "reading /Users/stevescott/Downloads/demographics-2/part-000000000002.csv.gz\n"
     ]
    }
   ],
   "source": [
    "data = read_visits([0, 1, 2])\n",
    "# data = read_visits(np.arange(8))"
   ]
  },
  {
   "cell_type": "code",
   "execution_count": 15,
   "id": "f4abeecf",
   "metadata": {},
   "outputs": [
    {
     "data": {
      "text/plain": [
       "(26202278, 3)"
      ]
     },
     "execution_count": 15,
     "metadata": {},
     "output_type": "execute_result"
    }
   ],
   "source": [
    "data.shape"
   ]
  },
  {
   "cell_type": "code",
   "execution_count": 16,
   "id": "7d67e18e",
   "metadata": {},
   "outputs": [
    {
     "data": {
      "text/html": [
       "<div>\n",
       "<style scoped>\n",
       "    .dataframe tbody tr th:only-of-type {\n",
       "        vertical-align: middle;\n",
       "    }\n",
       "\n",
       "    .dataframe tbody tr th {\n",
       "        vertical-align: top;\n",
       "    }\n",
       "\n",
       "    .dataframe thead th {\n",
       "        text-align: right;\n",
       "    }\n",
       "</style>\n",
       "<table border=\"1\" class=\"dataframe\">\n",
       "  <thead>\n",
       "    <tr style=\"text-align: right;\">\n",
       "      <th></th>\n",
       "      <th>estid</th>\n",
       "      <th>domain</th>\n",
       "      <th>visits</th>\n",
       "    </tr>\n",
       "  </thead>\n",
       "  <tbody>\n",
       "    <tr>\n",
       "      <th>0</th>\n",
       "      <td>ZGoABmED6FQAAAAIGuINAw==</td>\n",
       "      <td>ol.mingpao.com</td>\n",
       "      <td>7</td>\n",
       "    </tr>\n",
       "    <tr>\n",
       "      <th>1</th>\n",
       "      <td>CiSABF9bX/wAAAATA00AAw==</td>\n",
       "      <td>legacy.com</td>\n",
       "      <td>4</td>\n",
       "    </tr>\n",
       "    <tr>\n",
       "      <th>2</th>\n",
       "      <td>ZGeAAmEa2rIAAAAIfHT1Aw==</td>\n",
       "      <td>news.creaders.net</td>\n",
       "      <td>4</td>\n",
       "    </tr>\n",
       "    <tr>\n",
       "      <th>3</th>\n",
       "      <td>ZGUACGE560YAAAAIS7CbAw==</td>\n",
       "      <td>madamenoire.com</td>\n",
       "      <td>2</td>\n",
       "    </tr>\n",
       "    <tr>\n",
       "      <th>4</th>\n",
       "      <td>ZGgAB2EWmE8AAAAIEoDNAw==</td>\n",
       "      <td>clutchpoints.com</td>\n",
       "      <td>2</td>\n",
       "    </tr>\n",
       "  </tbody>\n",
       "</table>\n",
       "</div>"
      ],
      "text/plain": [
       "                      estid             domain  visits\n",
       "0  ZGoABmED6FQAAAAIGuINAw==     ol.mingpao.com       7\n",
       "1  CiSABF9bX/wAAAATA00AAw==         legacy.com       4\n",
       "2  ZGeAAmEa2rIAAAAIfHT1Aw==  news.creaders.net       4\n",
       "3  ZGUACGE560YAAAAIS7CbAw==    madamenoire.com       2\n",
       "4  ZGgAB2EWmE8AAAAIEoDNAw==   clutchpoints.com       2"
      ]
     },
     "execution_count": 16,
     "metadata": {},
     "output_type": "execute_result"
    }
   ],
   "source": [
    "data.head()"
   ]
  },
  {
   "cell_type": "code",
   "execution_count": 17,
   "id": "64bf9033",
   "metadata": {},
   "outputs": [
    {
     "data": {
      "text/html": [
       "<div>\n",
       "<style scoped>\n",
       "    .dataframe tbody tr th:only-of-type {\n",
       "        vertical-align: middle;\n",
       "    }\n",
       "\n",
       "    .dataframe tbody tr th {\n",
       "        vertical-align: top;\n",
       "    }\n",
       "\n",
       "    .dataframe thead th {\n",
       "        text-align: right;\n",
       "    }\n",
       "</style>\n",
       "<table border=\"1\" class=\"dataframe\">\n",
       "  <thead>\n",
       "    <tr style=\"text-align: right;\">\n",
       "      <th></th>\n",
       "      <th>estid</th>\n",
       "      <th>domain</th>\n",
       "      <th>visits</th>\n",
       "    </tr>\n",
       "  </thead>\n",
       "  <tbody>\n",
       "    <tr>\n",
       "      <th>3505500</th>\n",
       "      <td>ZHwAA2E5MG0AAAAJLgIcAw==</td>\n",
       "      <td>fortnitetracker.com</td>\n",
       "      <td>365438</td>\n",
       "    </tr>\n",
       "    <tr>\n",
       "      <th>4285346</th>\n",
       "      <td>ZHyAAmFejEIAAAAIF7S9Aw==</td>\n",
       "      <td>fortnitetracker.com</td>\n",
       "      <td>208960</td>\n",
       "    </tr>\n",
       "    <tr>\n",
       "      <th>2458814</th>\n",
       "      <td>ZGMABmCDUBUAAAAIG/Z8Aw==</td>\n",
       "      <td>diariolibre.com</td>\n",
       "      <td>59285</td>\n",
       "    </tr>\n",
       "    <tr>\n",
       "      <th>5892215</th>\n",
       "      <td>ZGcAAGDxveUAAAAIMPZGAw==</td>\n",
       "      <td>tigernet.com</td>\n",
       "      <td>56902</td>\n",
       "    </tr>\n",
       "    <tr>\n",
       "      <th>2230026</th>\n",
       "      <td>ZGwABWDbRDQAAAAOEAeFAw==</td>\n",
       "      <td>tigernet.com</td>\n",
       "      <td>49916</td>\n",
       "    </tr>\n",
       "  </tbody>\n",
       "</table>\n",
       "</div>"
      ],
      "text/plain": [
       "                            estid               domain  visits\n",
       "3505500  ZHwAA2E5MG0AAAAJLgIcAw==  fortnitetracker.com  365438\n",
       "4285346  ZHyAAmFejEIAAAAIF7S9Aw==  fortnitetracker.com  208960\n",
       "2458814  ZGMABmCDUBUAAAAIG/Z8Aw==      diariolibre.com   59285\n",
       "5892215  ZGcAAGDxveUAAAAIMPZGAw==         tigernet.com   56902\n",
       "2230026  ZGwABWDbRDQAAAAOEAeFAw==         tigernet.com   49916"
      ]
     },
     "execution_count": 17,
     "metadata": {},
     "output_type": "execute_result"
    }
   ],
   "source": [
    "data = data.sort_values(\"visits\", ascending=False)\n",
    "data.head()"
   ]
  },
  {
   "cell_type": "code",
   "execution_count": 20,
   "id": "835659cf",
   "metadata": {},
   "outputs": [],
   "source": [
    "# Get the number of times each estid appears in the data.\n",
    "unique_visit_counts = data.value_counts(\"estid\")"
   ]
  },
  {
   "cell_type": "code",
   "execution_count": 21,
   "id": "3d112613",
   "metadata": {},
   "outputs": [
    {
     "data": {
      "text/plain": [
       "estid\n",
       "ZGIABGFm3EYAAAAIG4iRAw==    25\n",
       "ZGwAAmFw5RsAAAAJdnGgAw==    24\n",
       "ZHQABWGe0YkAAAAIPJ1iAw==    20\n",
       "ZGUABGGub/QAAAAINidgAw==    20\n",
       "ZGoABmGoCeMAAAAIFowvAw==    20\n",
       "dtype: int64"
      ]
     },
     "execution_count": 21,
     "metadata": {},
     "output_type": "execute_result"
    }
   ],
   "source": [
    "unique_visit_counts.head()"
   ]
  },
  {
   "cell_type": "code",
   "execution_count": 22,
   "id": "a64970d9",
   "metadata": {},
   "outputs": [
    {
     "data": {
      "text/plain": [
       "1     12489654\n",
       "2      5111863\n",
       "3       806210\n",
       "4       176638\n",
       "5        45196\n",
       "6        13034\n",
       "7         4387\n",
       "8         1587\n",
       "9          731\n",
       "10         362\n",
       "11         193\n",
       "12         125\n",
       "13          66\n",
       "14          42\n",
       "15          12\n",
       "16          17\n",
       "17          10\n",
       "18           5\n",
       "19           2\n",
       "20           3\n",
       "24           1\n",
       "25           1\n",
       "dtype: int64"
      ]
     },
     "execution_count": 22,
     "metadata": {},
     "output_type": "execute_result"
    }
   ],
   "source": [
    "# This is the number of times we saw an estid once, twice, ...\n",
    "unique_visit_counts.value_counts().sort_index()"
   ]
  },
  {
   "cell_type": "code",
   "execution_count": 23,
   "id": "67d37542",
   "metadata": {},
   "outputs": [
    {
     "data": {
      "text/html": [
       "<div>\n",
       "<style scoped>\n",
       "    .dataframe tbody tr th:only-of-type {\n",
       "        vertical-align: middle;\n",
       "    }\n",
       "\n",
       "    .dataframe tbody tr th {\n",
       "        vertical-align: top;\n",
       "    }\n",
       "\n",
       "    .dataframe thead th {\n",
       "        text-align: right;\n",
       "    }\n",
       "</style>\n",
       "<table border=\"1\" class=\"dataframe\">\n",
       "  <thead>\n",
       "    <tr style=\"text-align: right;\">\n",
       "      <th></th>\n",
       "      <th>estid</th>\n",
       "      <th>domain</th>\n",
       "      <th>visits</th>\n",
       "    </tr>\n",
       "  </thead>\n",
       "  <tbody>\n",
       "    <tr>\n",
       "      <th>7566212</th>\n",
       "      <td>ZGIABGFm3EYAAAAIG4iRAw==</td>\n",
       "      <td>lessonslearnedinlife.com</td>\n",
       "      <td>9</td>\n",
       "    </tr>\n",
       "    <tr>\n",
       "      <th>4835721</th>\n",
       "      <td>ZGIABGFm3EYAAAAIG4iRAw==</td>\n",
       "      <td>currentobituary.com</td>\n",
       "      <td>7</td>\n",
       "    </tr>\n",
       "    <tr>\n",
       "      <th>6157544</th>\n",
       "      <td>ZGIABGFm3EYAAAAIG4iRAw==</td>\n",
       "      <td>passportamerica.com</td>\n",
       "      <td>6</td>\n",
       "    </tr>\n",
       "    <tr>\n",
       "      <th>1669789</th>\n",
       "      <td>ZGIABGFm3EYAAAAIG4iRAw==</td>\n",
       "      <td>racesonline.com</td>\n",
       "      <td>6</td>\n",
       "    </tr>\n",
       "    <tr>\n",
       "      <th>7952061</th>\n",
       "      <td>ZGIABGFm3EYAAAAIG4iRAw==</td>\n",
       "      <td>appass.com</td>\n",
       "      <td>6</td>\n",
       "    </tr>\n",
       "    <tr>\n",
       "      <th>720500</th>\n",
       "      <td>ZGIABGFm3EYAAAAIG4iRAw==</td>\n",
       "      <td>bloomsbury.com</td>\n",
       "      <td>6</td>\n",
       "    </tr>\n",
       "    <tr>\n",
       "      <th>145265</th>\n",
       "      <td>ZGIABGFm3EYAAAAIG4iRAw==</td>\n",
       "      <td>avid.com</td>\n",
       "      <td>6</td>\n",
       "    </tr>\n",
       "    <tr>\n",
       "      <th>45040</th>\n",
       "      <td>ZGIABGFm3EYAAAAIG4iRAw==</td>\n",
       "      <td>bmi.com</td>\n",
       "      <td>6</td>\n",
       "    </tr>\n",
       "    <tr>\n",
       "      <th>5548414</th>\n",
       "      <td>ZGIABGFm3EYAAAAIG4iRAw==</td>\n",
       "      <td>mcmenamins.com</td>\n",
       "      <td>6</td>\n",
       "    </tr>\n",
       "    <tr>\n",
       "      <th>1001091</th>\n",
       "      <td>ZGIABGFm3EYAAAAIG4iRAw==</td>\n",
       "      <td>wheeldecide.com</td>\n",
       "      <td>6</td>\n",
       "    </tr>\n",
       "    <tr>\n",
       "      <th>161920</th>\n",
       "      <td>ZGIABGFm3EYAAAAIG4iRAw==</td>\n",
       "      <td>realestateone.com</td>\n",
       "      <td>6</td>\n",
       "    </tr>\n",
       "    <tr>\n",
       "      <th>8711910</th>\n",
       "      <td>ZGIABGFm3EYAAAAIG4iRAw==</td>\n",
       "      <td>sneakersteal.com</td>\n",
       "      <td>6</td>\n",
       "    </tr>\n",
       "    <tr>\n",
       "      <th>4127375</th>\n",
       "      <td>ZGIABGFm3EYAAAAIG4iRAw==</td>\n",
       "      <td>flysfo.com</td>\n",
       "      <td>6</td>\n",
       "    </tr>\n",
       "    <tr>\n",
       "      <th>1436810</th>\n",
       "      <td>ZGIABGFm3EYAAAAIG4iRAw==</td>\n",
       "      <td>belgraviacentre.com</td>\n",
       "      <td>5</td>\n",
       "    </tr>\n",
       "    <tr>\n",
       "      <th>5682315</th>\n",
       "      <td>ZGIABGFm3EYAAAAIG4iRAw==</td>\n",
       "      <td>dragzine.com</td>\n",
       "      <td>5</td>\n",
       "    </tr>\n",
       "    <tr>\n",
       "      <th>7231243</th>\n",
       "      <td>ZGIABGFm3EYAAAAIG4iRAw==</td>\n",
       "      <td>floridatrend.com</td>\n",
       "      <td>5</td>\n",
       "    </tr>\n",
       "    <tr>\n",
       "      <th>8349774</th>\n",
       "      <td>ZGIABGFm3EYAAAAIG4iRAw==</td>\n",
       "      <td>monety.in.ua</td>\n",
       "      <td>5</td>\n",
       "    </tr>\n",
       "    <tr>\n",
       "      <th>1525624</th>\n",
       "      <td>ZGIABGFm3EYAAAAIG4iRAw==</td>\n",
       "      <td>ankawa.com</td>\n",
       "      <td>5</td>\n",
       "    </tr>\n",
       "    <tr>\n",
       "      <th>4712953</th>\n",
       "      <td>ZGIABGFm3EYAAAAIG4iRAw==</td>\n",
       "      <td>mymcpl.org</td>\n",
       "      <td>5</td>\n",
       "    </tr>\n",
       "    <tr>\n",
       "      <th>861710</th>\n",
       "      <td>ZGIABGFm3EYAAAAIG4iRAw==</td>\n",
       "      <td>coty.com</td>\n",
       "      <td>4</td>\n",
       "    </tr>\n",
       "    <tr>\n",
       "      <th>2815289</th>\n",
       "      <td>ZGIABGFm3EYAAAAIG4iRAw==</td>\n",
       "      <td>tampabay.com</td>\n",
       "      <td>4</td>\n",
       "    </tr>\n",
       "    <tr>\n",
       "      <th>4230877</th>\n",
       "      <td>ZGIABGFm3EYAAAAIG4iRAw==</td>\n",
       "      <td>brainline.org</td>\n",
       "      <td>4</td>\n",
       "    </tr>\n",
       "    <tr>\n",
       "      <th>615989</th>\n",
       "      <td>ZGIABGFm3EYAAAAIG4iRAw==</td>\n",
       "      <td>indieonthemove.com</td>\n",
       "      <td>4</td>\n",
       "    </tr>\n",
       "    <tr>\n",
       "      <th>7897524</th>\n",
       "      <td>ZGIABGFm3EYAAAAIG4iRAw==</td>\n",
       "      <td>minecraft-mp.com</td>\n",
       "      <td>2</td>\n",
       "    </tr>\n",
       "    <tr>\n",
       "      <th>8537097</th>\n",
       "      <td>ZGIABGFm3EYAAAAIG4iRAw==</td>\n",
       "      <td>danielsoper.com</td>\n",
       "      <td>1</td>\n",
       "    </tr>\n",
       "  </tbody>\n",
       "</table>\n",
       "</div>"
      ],
      "text/plain": [
       "                            estid                    domain  visits\n",
       "7566212  ZGIABGFm3EYAAAAIG4iRAw==  lessonslearnedinlife.com       9\n",
       "4835721  ZGIABGFm3EYAAAAIG4iRAw==       currentobituary.com       7\n",
       "6157544  ZGIABGFm3EYAAAAIG4iRAw==       passportamerica.com       6\n",
       "1669789  ZGIABGFm3EYAAAAIG4iRAw==           racesonline.com       6\n",
       "7952061  ZGIABGFm3EYAAAAIG4iRAw==                appass.com       6\n",
       "720500   ZGIABGFm3EYAAAAIG4iRAw==            bloomsbury.com       6\n",
       "145265   ZGIABGFm3EYAAAAIG4iRAw==                  avid.com       6\n",
       "45040    ZGIABGFm3EYAAAAIG4iRAw==                   bmi.com       6\n",
       "5548414  ZGIABGFm3EYAAAAIG4iRAw==            mcmenamins.com       6\n",
       "1001091  ZGIABGFm3EYAAAAIG4iRAw==           wheeldecide.com       6\n",
       "161920   ZGIABGFm3EYAAAAIG4iRAw==         realestateone.com       6\n",
       "8711910  ZGIABGFm3EYAAAAIG4iRAw==          sneakersteal.com       6\n",
       "4127375  ZGIABGFm3EYAAAAIG4iRAw==                flysfo.com       6\n",
       "1436810  ZGIABGFm3EYAAAAIG4iRAw==       belgraviacentre.com       5\n",
       "5682315  ZGIABGFm3EYAAAAIG4iRAw==              dragzine.com       5\n",
       "7231243  ZGIABGFm3EYAAAAIG4iRAw==          floridatrend.com       5\n",
       "8349774  ZGIABGFm3EYAAAAIG4iRAw==              monety.in.ua       5\n",
       "1525624  ZGIABGFm3EYAAAAIG4iRAw==                ankawa.com       5\n",
       "4712953  ZGIABGFm3EYAAAAIG4iRAw==                mymcpl.org       5\n",
       "861710   ZGIABGFm3EYAAAAIG4iRAw==                  coty.com       4\n",
       "2815289  ZGIABGFm3EYAAAAIG4iRAw==              tampabay.com       4\n",
       "4230877  ZGIABGFm3EYAAAAIG4iRAw==             brainline.org       4\n",
       "615989   ZGIABGFm3EYAAAAIG4iRAw==        indieonthemove.com       4\n",
       "7897524  ZGIABGFm3EYAAAAIG4iRAw==          minecraft-mp.com       2\n",
       "8537097  ZGIABGFm3EYAAAAIG4iRAw==           danielsoper.com       1"
      ]
     },
     "execution_count": 23,
     "metadata": {},
     "output_type": "execute_result"
    }
   ],
   "source": [
    "# Check out the guy who showed up to 25 different domains.\n",
    "data[data.estid==\"ZGIABGFm3EYAAAAIG4iRAw==\"]"
   ]
  },
  {
   "cell_type": "code",
   "execution_count": 19,
   "id": "626478c7",
   "metadata": {
    "scrolled": true
   },
   "outputs": [
    {
     "data": {
      "text/plain": [
       "<AxesSubplot:>"
      ]
     },
     "execution_count": 19,
     "metadata": {},
     "output_type": "execute_result"
    },
    {
     "data": {
      "image/png": "[encoded data removed]",
      "text/plain": [
       "<Figure size 432x288 with 1 Axes>"
      ]
     },
     "metadata": {
      "needs_background": "light"
     },
     "output_type": "display_data"
    }
   ],
   "source": [
    "data.visits.hist()"
   ]
  },
  {
   "cell_type": "code",
   "execution_count": 18,
   "id": "0f0cb1c5",
   "metadata": {},
   "outputs": [
    {
     "data": {
      "text/plain": [
       "<AxesSubplot:>"
      ]
     },
     "execution_count": 18,
     "metadata": {},
     "output_type": "execute_result"
    },
    {
     "data": {
      "image/png": "[encoded data removed]",
      "text/plain": [
       "<Figure size 432x288 with 1 Axes>"
      ]
     },
     "metadata": {
      "needs_background": "light"
     },
     "output_type": "display_data"
    }
   ],
   "source": [
    "np.log10(data.visits).hist()"
   ]
  },
  {
   "cell_type": "code",
   "execution_count": 24,
   "id": "2a733ece",
   "metadata": {},
   "outputs": [],
   "source": [
    "total_visits_by_estid = data.loc[:, (\"estid\", \"visits\")].groupby(\"estid\").sum()\n",
    "\n"
   ]
  },
  {
   "cell_type": "code",
   "execution_count": 25,
   "id": "b5904919",
   "metadata": {},
   "outputs": [
    {
     "data": {
      "text/html": [
       "<div>\n",
       "<style scoped>\n",
       "    .dataframe tbody tr th:only-of-type {\n",
       "        vertical-align: middle;\n",
       "    }\n",
       "\n",
       "    .dataframe tbody tr th {\n",
       "        vertical-align: top;\n",
       "    }\n",
       "\n",
       "    .dataframe thead th {\n",
       "        text-align: right;\n",
       "    }\n",
       "</style>\n",
       "<table border=\"1\" class=\"dataframe\">\n",
       "  <thead>\n",
       "    <tr style=\"text-align: right;\">\n",
       "      <th></th>\n",
       "      <th>visits</th>\n",
       "    </tr>\n",
       "    <tr>\n",
       "      <th>estid</th>\n",
       "      <th></th>\n",
       "    </tr>\n",
       "  </thead>\n",
       "  <tbody>\n",
       "    <tr>\n",
       "      <th>ZGwAB2EdKZsAAAAIF0RUAw==</th>\n",
       "      <td>155195</td>\n",
       "    </tr>\n",
       "    <tr>\n",
       "      <th>ZHyAAmFejEIAAAAIF7S9Aw==</th>\n",
       "      <td>26942</td>\n",
       "    </tr>\n",
       "    <tr>\n",
       "      <th>ZGYAAWGA+9kAAAAIDYEjAw==</th>\n",
       "      <td>7300</td>\n",
       "    </tr>\n",
       "    <tr>\n",
       "      <th>ZGgACGE7dJgAAAAID4TaAw==</th>\n",
       "      <td>3733</td>\n",
       "    </tr>\n",
       "    <tr>\n",
       "      <th>ZHUAA2FoUNUAAAAIETzpAw==</th>\n",
       "      <td>3228</td>\n",
       "    </tr>\n",
       "    <tr>\n",
       "      <th>...</th>\n",
       "      <td>...</td>\n",
       "    </tr>\n",
       "    <tr>\n",
       "      <th>ZGYAAGFzVugAAAAIawPwAw==</th>\n",
       "      <td>1</td>\n",
       "    </tr>\n",
       "    <tr>\n",
       "      <th>ZGYAAGFzVr4AAAAIav5TAw==</th>\n",
       "      <td>1</td>\n",
       "    </tr>\n",
       "    <tr>\n",
       "      <th>ZGYAAGFzVqwAAAAIFQ0XAw==</th>\n",
       "      <td>1</td>\n",
       "    </tr>\n",
       "    <tr>\n",
       "      <th>ZGYAAGFzVqEAAAAIFQjIAw==</th>\n",
       "      <td>1</td>\n",
       "    </tr>\n",
       "    <tr>\n",
       "      <th>uFe5tV6CopkZo5vxACc3Ag==</th>\n",
       "      <td>1</td>\n",
       "    </tr>\n",
       "  </tbody>\n",
       "</table>\n",
       "<p>6870291 rows × 1 columns</p>\n",
       "</div>"
      ],
      "text/plain": [
       "                          visits\n",
       "estid                           \n",
       "ZGwAB2EdKZsAAAAIF0RUAw==  155195\n",
       "ZHyAAmFejEIAAAAIF7S9Aw==   26942\n",
       "ZGYAAWGA+9kAAAAIDYEjAw==    7300\n",
       "ZGgACGE7dJgAAAAID4TaAw==    3733\n",
       "ZHUAA2FoUNUAAAAIETzpAw==    3228\n",
       "...                          ...\n",
       "ZGYAAGFzVugAAAAIawPwAw==       1\n",
       "ZGYAAGFzVr4AAAAIav5TAw==       1\n",
       "ZGYAAGFzVqwAAAAIFQ0XAw==       1\n",
       "ZGYAAGFzVqEAAAAIFQjIAw==       1\n",
       "uFe5tV6CopkZo5vxACc3Ag==       1\n",
       "\n",
       "[6870291 rows x 1 columns]"
      ]
     },
     "execution_count": 25,
     "metadata": {},
     "output_type": "execute_result"
    }
   ],
   "source": [
    "total_visits_by_estid.sort_values(\"visits\", ascending=False)"
   ]
  },
  {
   "cell_type": "markdown",
   "id": "080502f4",
   "metadata": {},
   "source": [
    "## Check out the ID's with many visits.  How many sites do they visit?  Usually just one."
   ]
  },
  {
   "cell_type": "code",
   "execution_count": 34,
   "id": "0fc5c804",
   "metadata": {},
   "outputs": [
    {
     "data": {
      "text/html": [
       "<div>\n",
       "<style scoped>\n",
       "    .dataframe tbody tr th:only-of-type {\n",
       "        vertical-align: middle;\n",
       "    }\n",
       "\n",
       "    .dataframe tbody tr th {\n",
       "        vertical-align: top;\n",
       "    }\n",
       "\n",
       "    .dataframe thead th {\n",
       "        text-align: right;\n",
       "    }\n",
       "</style>\n",
       "<table border=\"1\" class=\"dataframe\">\n",
       "  <thead>\n",
       "    <tr style=\"text-align: right;\">\n",
       "      <th></th>\n",
       "      <th>estid</th>\n",
       "      <th>domain</th>\n",
       "      <th>visits</th>\n",
       "    </tr>\n",
       "  </thead>\n",
       "  <tbody>\n",
       "    <tr>\n",
       "      <th>9316</th>\n",
       "      <td>ZGYAAWGA+9kAAAAIDYEjAw==</td>\n",
       "      <td>jump.mingpao.com</td>\n",
       "      <td>7300</td>\n",
       "    </tr>\n",
       "  </tbody>\n",
       "</table>\n",
       "</div>"
      ],
      "text/plain": [
       "                         estid            domain  visits\n",
       "9316  ZGYAAWGA+9kAAAAIDYEjAw==  jump.mingpao.com    7300"
      ]
     },
     "execution_count": 34,
     "metadata": {},
     "output_type": "execute_result"
    }
   ],
   "source": [
    "data[data.estid==\"ZGYAAWGA+9kAAAAIDYEjAw==\"]"
   ]
  },
  {
   "cell_type": "code",
   "execution_count": 35,
   "id": "250f3618",
   "metadata": {},
   "outputs": [
    {
     "data": {
      "text/html": [
       "<div>\n",
       "<style scoped>\n",
       "    .dataframe tbody tr th:only-of-type {\n",
       "        vertical-align: middle;\n",
       "    }\n",
       "\n",
       "    .dataframe tbody tr th {\n",
       "        vertical-align: top;\n",
       "    }\n",
       "\n",
       "    .dataframe thead th {\n",
       "        text-align: right;\n",
       "    }\n",
       "</style>\n",
       "<table border=\"1\" class=\"dataframe\">\n",
       "  <thead>\n",
       "    <tr style=\"text-align: right;\">\n",
       "      <th></th>\n",
       "      <th>estid</th>\n",
       "      <th>domain</th>\n",
       "      <th>visits</th>\n",
       "    </tr>\n",
       "  </thead>\n",
       "  <tbody>\n",
       "    <tr>\n",
       "      <th>41076</th>\n",
       "      <td>ZGgACGE7dJgAAAAID4TaAw==</td>\n",
       "      <td>coingecko.com</td>\n",
       "      <td>3733</td>\n",
       "    </tr>\n",
       "  </tbody>\n",
       "</table>\n",
       "</div>"
      ],
      "text/plain": [
       "                          estid         domain  visits\n",
       "41076  ZGgACGE7dJgAAAAID4TaAw==  coingecko.com    3733"
      ]
     },
     "execution_count": 35,
     "metadata": {},
     "output_type": "execute_result"
    }
   ],
   "source": [
    "data[data.estid==\"ZGgACGE7dJgAAAAID4TaAw==\"]"
   ]
  },
  {
   "cell_type": "code",
   "execution_count": null,
   "id": "87bec85e",
   "metadata": {},
   "outputs": [],
   "source": []
  }
 ],
 "metadata": {
  "kernelspec": {
   "display_name": "Python 3 (ipykernel)",
   "language": "python",
   "name": "python3"
  },
  "language_info": {
   "codemirror_mode": {
    "name": "ipython",
    "version": 3
   },
   "file_extension": ".py",
   "mimetype": "text/x-python",
   "name": "python",
   "nbconvert_exporter": "python",
   "pygments_lexer": "ipython3",
   "version": "3.9.7"
  }
 },
 "nbformat": 4,
 "nbformat_minor": 5
}
